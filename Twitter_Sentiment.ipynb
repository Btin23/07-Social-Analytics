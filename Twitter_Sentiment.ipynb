{
 "cells": [
  {
   "cell_type": "code",
   "execution_count": 1,
   "metadata": {},
   "outputs": [],
   "source": [
    "import tweepy\n",
    "import json\n",
    "import pandas as pd\n",
    "import numpy as np\n",
    "from datetime import datetime\n",
    "import matplotlib.pyplot as plt\n",
    "import json\n",
    "import tweepy\n",
    "from config import consumer_key, consumer_secret, access_token, access_token_secret\n",
    "from vaderSentiment.vaderSentiment import SentimentIntensityAnalyzer\n",
    "analyzer = SentimentIntensityAnalyzer()"
   ]
  },
  {
   "cell_type": "code",
   "execution_count": 6,
   "metadata": {},
   "outputs": [],
   "source": [
    "# Setup Tweepy API Authentication\n",
    "auth = tweepy.OAuthHandler(consumer_key, consumer_secret)\n",
    "auth.set_access_token(access_token, access_token_secret)\n",
    "api = tweepy.API(auth, parser=tweepy.parsers.JSONParser())"
   ]
  },
  {
   "cell_type": "code",
   "execution_count": 7,
   "metadata": {},
   "outputs": [],
   "source": [
    "news_outlets = ['NYT', 'CNN', 'BBC','CBS', 'fox' ]\n",
    "#news_outlets = ['nytimes' ]"
   ]
  },
  {
   "cell_type": "code",
   "execution_count": 8,
   "metadata": {},
   "outputs": [
    {
     "ename": "TweepError",
     "evalue": "Not authorized.",
     "output_type": "error",
     "traceback": [
      "\u001b[0;31m---------------------------------------------------------------------------\u001b[0m",
      "\u001b[0;31mTweepError\u001b[0m                                Traceback (most recent call last)",
      "\u001b[0;32m<ipython-input-8-8cc375033ce6>\u001b[0m in \u001b[0;36m<module>\u001b[0;34m()\u001b[0m\n\u001b[1;32m     15\u001b[0m \u001b[0;34m\u001b[0m\u001b[0m\n\u001b[1;32m     16\u001b[0m \u001b[0;34m\u001b[0m\u001b[0m\n\u001b[0;32m---> 17\u001b[0;31m     \u001b[0mpublic_tweets\u001b[0m \u001b[0;34m=\u001b[0m \u001b[0mapi\u001b[0m\u001b[0;34m.\u001b[0m\u001b[0muser_timeline\u001b[0m\u001b[0;34m(\u001b[0m\u001b[0mtarget_outlet\u001b[0m\u001b[0;34m,\u001b[0m \u001b[0mcount\u001b[0m\u001b[0;34m=\u001b[0m\u001b[0mtweet_count\u001b[0m\u001b[0;34m)\u001b[0m\u001b[0;34m\u001b[0m\u001b[0m\n\u001b[0m\u001b[1;32m     18\u001b[0m \u001b[0;34m\u001b[0m\u001b[0m\n\u001b[1;32m     19\u001b[0m \u001b[0;34m\u001b[0m\u001b[0m\n",
      "\u001b[0;32m~/anaconda3/lib/python3.6/site-packages/tweepy/binder.py\u001b[0m in \u001b[0;36m_call\u001b[0;34m(*args, **kwargs)\u001b[0m\n\u001b[1;32m    248\u001b[0m             \u001b[0;32mreturn\u001b[0m \u001b[0mmethod\u001b[0m\u001b[0;34m\u001b[0m\u001b[0m\n\u001b[1;32m    249\u001b[0m         \u001b[0;32melse\u001b[0m\u001b[0;34m:\u001b[0m\u001b[0;34m\u001b[0m\u001b[0m\n\u001b[0;32m--> 250\u001b[0;31m             \u001b[0;32mreturn\u001b[0m \u001b[0mmethod\u001b[0m\u001b[0;34m.\u001b[0m\u001b[0mexecute\u001b[0m\u001b[0;34m(\u001b[0m\u001b[0;34m)\u001b[0m\u001b[0;34m\u001b[0m\u001b[0m\n\u001b[0m\u001b[1;32m    251\u001b[0m \u001b[0;34m\u001b[0m\u001b[0m\n\u001b[1;32m    252\u001b[0m     \u001b[0;31m# Set pagination mode\u001b[0m\u001b[0;34m\u001b[0m\u001b[0;34m\u001b[0m\u001b[0m\n",
      "\u001b[0;32m~/anaconda3/lib/python3.6/site-packages/tweepy/binder.py\u001b[0m in \u001b[0;36mexecute\u001b[0;34m(self)\u001b[0m\n\u001b[1;32m    232\u001b[0m                     \u001b[0;32mraise\u001b[0m \u001b[0mRateLimitError\u001b[0m\u001b[0;34m(\u001b[0m\u001b[0merror_msg\u001b[0m\u001b[0;34m,\u001b[0m \u001b[0mresp\u001b[0m\u001b[0;34m)\u001b[0m\u001b[0;34m\u001b[0m\u001b[0m\n\u001b[1;32m    233\u001b[0m                 \u001b[0;32melse\u001b[0m\u001b[0;34m:\u001b[0m\u001b[0;34m\u001b[0m\u001b[0m\n\u001b[0;32m--> 234\u001b[0;31m                     \u001b[0;32mraise\u001b[0m \u001b[0mTweepError\u001b[0m\u001b[0;34m(\u001b[0m\u001b[0merror_msg\u001b[0m\u001b[0;34m,\u001b[0m \u001b[0mresp\u001b[0m\u001b[0;34m,\u001b[0m \u001b[0mapi_code\u001b[0m\u001b[0;34m=\u001b[0m\u001b[0mapi_error_code\u001b[0m\u001b[0;34m)\u001b[0m\u001b[0;34m\u001b[0m\u001b[0m\n\u001b[0m\u001b[1;32m    235\u001b[0m \u001b[0;34m\u001b[0m\u001b[0m\n\u001b[1;32m    236\u001b[0m             \u001b[0;31m# Parse the response payload\u001b[0m\u001b[0;34m\u001b[0m\u001b[0;34m\u001b[0m\u001b[0m\n",
      "\u001b[0;31mTweepError\u001b[0m: Not authorized."
     ]
    }
   ],
   "source": [
    "# Array of news outlets\n",
    "tweet_count = 100\n",
    "\n",
    "news_sentiment_analysis = pd.DataFrame()\n",
    "\n",
    "for target_outlet in news_outlets :\n",
    "    news_media = []\n",
    "    positive = []\n",
    "    neutral = []\n",
    "    negative = []\n",
    "    compound = []\n",
    "    create_date = []\n",
    "    tweets_ago = []\n",
    "    # Target User\n",
    "\n",
    "   \n",
    "    public_tweets = api.user_timeline(target_outlet, count=tweet_count)\n",
    "\n",
    "    \n",
    "    i = 0\n",
    "    for tweet in public_tweets:\n",
    "        #print(tweet)\n",
    "       \n",
    "        tweet_text = tweet[\"text\"]\n",
    "       \n",
    "    #Sentiment Analysis\n",
    "        positive.append(analyzer.polarity_scores(tweet_text)[\"pos\"])\n",
    "        neutral.append(analyzer.polarity_scores(tweet_text)[\"neu\"])\n",
    "        negative.append(analyzer.polarity_scores(tweet_text)[\"neg\"])\n",
    "        compound.append(analyzer.polarity_scores(tweet_text)[\"compound\"])\n",
    "        create_date.append(datetime.strptime(tweet[\"created_at\"], \"%a %b %d %H:%M:%S %z %Y\")) \n",
    "        news_media.append(tweet['user']['screen_name'])\n",
    "        tweets_ago.append(i)\n",
    "        i=i-1               \n",
    " \n",
    "\n",
    "    data = pd.DataFrame({\"news_media\": news_media,\n",
    "                         \"positive\": positive,\n",
    "                         \"neutral\": neutral,\n",
    "                         \"negative\": negative,\n",
    "                         \"compound\": compound,\n",
    "                         \"create_date\": create_date,\n",
    "                         \"tweets_ago\":tweets_ago\n",
    "                       })\n",
    "    news_sentiment_analysis = news_sentiment_analysis.append(data)  \n",
    "\n",
    "news_sentiment_analysis.set_index('news_media', 'create_date')\n",
    "news_sentiment_analysis.to_csv(\"../Homework/twitter.csv\")"
   ]
  },
  {
   "cell_type": "code",
   "execution_count": 9,
   "metadata": {},
   "outputs": [
    {
     "ename": "AttributeError",
     "evalue": "'DataFrame' object has no attribute 'news_media'",
     "output_type": "error",
     "traceback": [
      "\u001b[0;31m---------------------------------------------------------------------------\u001b[0m",
      "\u001b[0;31mAttributeError\u001b[0m                            Traceback (most recent call last)",
      "\u001b[0;32m<ipython-input-9-70f20ba201f8>\u001b[0m in \u001b[0;36m<module>\u001b[0;34m()\u001b[0m\n\u001b[0;32m----> 1\u001b[0;31m \u001b[0mtweets_ago\u001b[0m\u001b[0;34m=\u001b[0m\u001b[0mnews_sentiment_analysis\u001b[0m\u001b[0;34m.\u001b[0m\u001b[0mloc\u001b[0m\u001b[0;34m[\u001b[0m\u001b[0mnews_sentiment_analysis\u001b[0m\u001b[0;34m.\u001b[0m\u001b[0mnews_media\u001b[0m\u001b[0;34m==\u001b[0m\u001b[0;34m'NYT'\u001b[0m\u001b[0;34m]\u001b[0m\u001b[0;34m[\u001b[0m\u001b[0;34m'tweets_ago'\u001b[0m\u001b[0;34m]\u001b[0m\u001b[0;34m\u001b[0m\u001b[0m\n\u001b[0m\u001b[1;32m      2\u001b[0m \u001b[0mtweet_compound\u001b[0m\u001b[0;34m=\u001b[0m\u001b[0mnews_sentiment_analysis\u001b[0m\u001b[0;34m.\u001b[0m\u001b[0mloc\u001b[0m\u001b[0;34m[\u001b[0m\u001b[0mnews_sentiment_analysis\u001b[0m\u001b[0;34m.\u001b[0m\u001b[0mnews_media\u001b[0m\u001b[0;34m==\u001b[0m\u001b[0;34m'NYT'\u001b[0m\u001b[0;34m]\u001b[0m\u001b[0;34m[\u001b[0m\u001b[0;34m'compound'\u001b[0m\u001b[0;34m]\u001b[0m\u001b[0;34m\u001b[0m\u001b[0m\n\u001b[1;32m      3\u001b[0m \u001b[0mprint\u001b[0m\u001b[0;34m(\u001b[0m\u001b[0mtweets_ago\u001b[0m\u001b[0;34m.\u001b[0m\u001b[0mvalues\u001b[0m\u001b[0;34m)\u001b[0m\u001b[0;34m\u001b[0m\u001b[0m\n",
      "\u001b[0;32m~/anaconda3/lib/python3.6/site-packages/pandas/core/generic.py\u001b[0m in \u001b[0;36m__getattr__\u001b[0;34m(self, name)\u001b[0m\n\u001b[1;32m   4370\u001b[0m             \u001b[0;32mif\u001b[0m \u001b[0mself\u001b[0m\u001b[0;34m.\u001b[0m\u001b[0m_info_axis\u001b[0m\u001b[0;34m.\u001b[0m\u001b[0m_can_hold_identifiers_and_holds_name\u001b[0m\u001b[0;34m(\u001b[0m\u001b[0mname\u001b[0m\u001b[0;34m)\u001b[0m\u001b[0;34m:\u001b[0m\u001b[0;34m\u001b[0m\u001b[0m\n\u001b[1;32m   4371\u001b[0m                 \u001b[0;32mreturn\u001b[0m \u001b[0mself\u001b[0m\u001b[0;34m[\u001b[0m\u001b[0mname\u001b[0m\u001b[0;34m]\u001b[0m\u001b[0;34m\u001b[0m\u001b[0m\n\u001b[0;32m-> 4372\u001b[0;31m             \u001b[0;32mreturn\u001b[0m \u001b[0mobject\u001b[0m\u001b[0;34m.\u001b[0m\u001b[0m__getattribute__\u001b[0m\u001b[0;34m(\u001b[0m\u001b[0mself\u001b[0m\u001b[0;34m,\u001b[0m \u001b[0mname\u001b[0m\u001b[0;34m)\u001b[0m\u001b[0;34m\u001b[0m\u001b[0m\n\u001b[0m\u001b[1;32m   4373\u001b[0m \u001b[0;34m\u001b[0m\u001b[0m\n\u001b[1;32m   4374\u001b[0m     \u001b[0;32mdef\u001b[0m \u001b[0m__setattr__\u001b[0m\u001b[0;34m(\u001b[0m\u001b[0mself\u001b[0m\u001b[0;34m,\u001b[0m \u001b[0mname\u001b[0m\u001b[0;34m,\u001b[0m \u001b[0mvalue\u001b[0m\u001b[0;34m)\u001b[0m\u001b[0;34m:\u001b[0m\u001b[0;34m\u001b[0m\u001b[0m\n",
      "\u001b[0;31mAttributeError\u001b[0m: 'DataFrame' object has no attribute 'news_media'"
     ]
    }
   ],
   "source": [
    "tweets_ago=news_sentiment_analysis.loc[news_sentiment_analysis.news_media=='NYT']['tweets_ago']\n",
    "tweet_compound=news_sentiment_analysis.loc[news_sentiment_analysis.news_media=='NYT']['compound']\n",
    "print(tweets_ago.values)"
   ]
  },
  {
   "cell_type": "code",
   "execution_count": 10,
   "metadata": {},
   "outputs": [
    {
     "ename": "NameError",
     "evalue": "name 'tweet_compound' is not defined",
     "output_type": "error",
     "traceback": [
      "\u001b[0;31m---------------------------------------------------------------------------\u001b[0m",
      "\u001b[0;31mNameError\u001b[0m                                 Traceback (most recent call last)",
      "\u001b[0;32m<ipython-input-10-8422a6e3fba6>\u001b[0m in \u001b[0;36m<module>\u001b[0;34m()\u001b[0m\n\u001b[1;32m      1\u001b[0m \u001b[0;31m# Plot Time Between Twets\u001b[0m\u001b[0;34m\u001b[0m\u001b[0;34m\u001b[0m\u001b[0m\n\u001b[0;32m----> 2\u001b[0;31m plt.plot(tweets_ago, tweet_compound, marker=\"o\", \n\u001b[0m\u001b[1;32m      3\u001b[0m                linewidth=0.25, alpha=0.8, color=\"b\")\n\u001b[1;32m      4\u001b[0m \u001b[0;34m\u001b[0m\u001b[0m\n\u001b[1;32m      5\u001b[0m \u001b[0mplt\u001b[0m\u001b[0;34m.\u001b[0m\u001b[0mxlim\u001b[0m\u001b[0;34m(\u001b[0m\u001b[0mnp\u001b[0m\u001b[0;34m.\u001b[0m\u001b[0mmin\u001b[0m\u001b[0;34m(\u001b[0m\u001b[0mtweets_ago\u001b[0m\u001b[0;34m)\u001b[0m\u001b[0;34m,\u001b[0m\u001b[0mnp\u001b[0m\u001b[0;34m.\u001b[0m\u001b[0mmax\u001b[0m\u001b[0;34m(\u001b[0m\u001b[0mtweets_ago\u001b[0m\u001b[0;34m)\u001b[0m\u001b[0;34m)\u001b[0m\u001b[0;34m\u001b[0m\u001b[0m\n",
      "\u001b[0;31mNameError\u001b[0m: name 'tweet_compound' is not defined"
     ]
    }
   ],
   "source": [
    "# Plot Time Between Tweets\n",
    "plt.plot(tweets_ago, tweet_compound, marker=\"o\", \n",
    "               linewidth=0.25, alpha=0.8, color=\"b\")\n",
    "\n",
    "plt.xlim(np.min(tweets_ago),np.max(tweets_ago)) \n",
    "plt.ylim([-1,1])\n",
    "plt.ylim(np.min(tweet_compound),np.max(tweet_compound)) \n",
    "\n",
    "plt.ylabel(\"Tweet Sentiment\")\n",
    "plt.xlabel(\"Tweets Ago\")\n",
    "plt.title(\"Tweet Sentiment: %s\" % 'NYT')\n",
    "plt.savefig(\"../Homework/NYT.png\")\n",
    "\n",
    "plt.show()"
   ]
  },
  {
   "cell_type": "code",
   "execution_count": null,
   "metadata": {},
   "outputs": [],
   "source": [
    "tweets_ago=news_sentiment_analysis.loc[news_sentiment_analysis.news_media=='CNN']['tweets_ago']\n",
    "tweet_compound=news_sentiment_analysis.loc[news_sentiment_analysis.news_media=='CNN']['compound']\n",
    "print(tweets_ago.values)"
   ]
  },
  {
   "cell_type": "code",
   "execution_count": null,
   "metadata": {},
   "outputs": [],
   "source": [
    "# Plot Time Between Tweets\n",
    "plt.plot(tweets_ago, tweet_compound, marker=\"o\", \n",
    "               linewidth=0.25, alpha=0.8, color=\"b\")\n",
    "\n",
    "plt.xlim(np.min(tweets_ago),np.max(tweets_ago)) \n",
    "plt.ylim([-1,1])\n",
    "plt.ylim(np.min(tweet_compound),np.max(tweet_compound)) \n",
    "\n",
    "plt.ylabel(\"Tweet Sentiment\")\n",
    "plt.xlabel(\"Tweets Ago\")\n",
    "plt.title(\"Tweet Sentiment: %s\" % 'CNN')\n",
    "plt.savefig(\"../Homework/CNN.png\")\n",
    "\n",
    "plt.show()"
   ]
  },
  {
   "cell_type": "code",
   "execution_count": null,
   "metadata": {},
   "outputs": [],
   "source": [
    "tweets_ago=news_sentiment_analysis.loc[news_sentiment_analysis.news_media=='BBC']['tweets_ago']\n",
    "tweet_compound=news_sentiment_analysis.loc[news_sentiment_analysis.news_media=='BBC']['compound']\n",
    "print(tweets_ago.values)"
   ]
  },
  {
   "cell_type": "code",
   "execution_count": null,
   "metadata": {},
   "outputs": [],
   "source": [
    "# Plot Time Between Tweets\n",
    "plt.plot(tweets_ago, tweet_compound, marker=\"o\", \n",
    "               linewidth=0.25, alpha=0.8, color=\"b\")\n",
    "\n",
    "plt.xlim(np.min(tweets_ago),np.max(tweets_ago)) \n",
    "plt.ylim([-1,1])\n",
    "plt.ylim(np.min(tweet_compound),np.max(tweet_compound)) \n",
    "\n",
    "plt.ylabel(\"Tweet Sentiment\")\n",
    "plt.xlabel(\"Tweets Ago\")\n",
    "plt.title(\"Tweet Sentiment: %s\" % 'BBC')\n",
    "plt.savefig(\"../Homework/BBC.png\")\n",
    "\n",
    "plt.show()"
   ]
  },
  {
   "cell_type": "code",
   "execution_count": null,
   "metadata": {},
   "outputs": [],
   "source": [
    "tweets_ago=news_sentiment_analysis.loc[news_sentiment_analysis.news_media=='CBS']['tweets_ago']\n",
    "tweet_compound=news_sentiment_analysis.loc[news_sentiment_analysis.news_media=='CBS']['compound']\n",
    "print(tweets_ago.values)"
   ]
  },
  {
   "cell_type": "code",
   "execution_count": null,
   "metadata": {},
   "outputs": [],
   "source": [
    "# Plot Time Between Tweets\n",
    "plt.plot(tweets_ago, tweet_compound, marker=\"o\", \n",
    "               linewidth=0.25, alpha=0.8, color=\"b\")\n",
    "\n",
    "plt.xlim(np.min(tweets_ago),np.max(tweets_ago)) \n",
    "plt.ylim([-1,1])\n",
    "plt.ylim(np.min(tweet_compound),np.max(tweet_compound)) \n",
    "\n",
    "plt.ylabel(\"Tweet Sentiment\")\n",
    "plt.xlabel(\"Tweets Ago\")\n",
    "plt.title(\"Tweet Sentiment: %s\" % 'CBS')\n",
    "plt.savefig(\"../Homework/CBS.png\")\n",
    "\n",
    "plt.show()"
   ]
  },
  {
   "cell_type": "code",
   "execution_count": null,
   "metadata": {},
   "outputs": [],
   "source": [
    "tweets_ago=news_sentiment_analysis.loc[news_sentiment_analysis.news_media=='fox']['tweets_ago']\n",
    "tweet_compound=news_sentiment_analysis.loc[news_sentiment_analysis.news_media=='fox']['compound']\n",
    "print(tweets_ago.values)"
   ]
  },
  {
   "cell_type": "code",
   "execution_count": null,
   "metadata": {},
   "outputs": [],
   "source": [
    "# Plot Time Between Tweets\n",
    "plt.plot(tweets_ago, tweet_compound, marker=\"o\", \n",
    "               linewidth=0.25, alpha=0.8, color=\"b\")\n",
    "\n",
    "plt.xlim(np.min(tweets_ago),np.max(tweets_ago)) \n",
    "plt.ylim([-1,1])\n",
    "plt.ylim(np.min(tweet_compound),np.max(tweet_compound)) \n",
    "\n",
    "plt.ylabel(\"Tweet Sentiment\")\n",
    "plt.xlabel(\"Tweets Ago\")\n",
    "plt.title(\"Tweet Sentiment: %s\" % 'fox')\n",
    "plt.savefig(\"../Homework/fox.png\")\n",
    "\n",
    "plt.show()"
   ]
  },
  {
   "cell_type": "code",
   "execution_count": null,
   "metadata": {},
   "outputs": [],
   "source": [
    "#  Bar plot visualizing the _overall_ sentiments \n",
    "overall_sent = []\n",
    "for target_outlet in news_outlets:\n",
    "    print(target_outlet)\n",
    "    tweet_compound=news_sentiment_analysis.loc[news_sentiment_analysis.news_media==target_outlet]['compound']\n",
    "    overall_sent.append(np.mean(tweet_compound))\n",
    "tweets_ago=news_sentiment_analysis.loc[news_sentiment_analysis.news_media=='fox']['tweets_ago']\n",
    "tweet_compound=news_sentiment_analysis.loc[news_sentiment_analysis.news_media=='fox']['compound']\n",
    "print(overall_sent)"
   ]
  },
  {
   "cell_type": "code",
   "execution_count": null,
   "metadata": {},
   "outputs": [],
   "source": [
    "tweets_ago=news_sentiment_analysis.loc[news_sentiment_analysis.news_media=='NYT']['tweets_ago']\n",
    "nytimes=news_sentiment_analysis.loc[news_sentiment_analysis.news_media=='NYT']['compound']\n",
    "plt.scatter(tweets_ago, nytimes, marker=\"o\", facecolors=\"cyan\", edgecolors=\"black\",\n",
    "            alpha=0.75)\n",
    "\n",
    "tweets_ago=news_sentiment_analysis.loc[news_sentiment_analysis.news_media=='CNN']['tweets_ago']\n",
    "cnn=news_sentiment_analysis.loc[news_sentiment_analysis.news_media=='CNN']['compound']\n",
    "plt.scatter(tweets_ago, cnn, marker=\"o\", facecolors=\"brown\", edgecolors=\"black\",\n",
    "            alpha=0.75)\n",
    "\n",
    "\n",
    "tweets_ago=news_sentiment_analysis.loc[news_sentiment_analysis.news_media=='BBC']['tweets_ago']\n",
    "bbc=news_sentiment_analysis.loc[news_sentiment_analysis.news_media=='BBC']['compound']\n",
    "plt.scatter(tweets_ago, bbc, marker=\"o\", facecolors=\"red\", edgecolors=\"black\",\n",
    "            alpha=0.75)\n",
    "\n",
    "\n",
    "tweets_ago=news_sentiment_analysis.loc[news_sentiment_analysis.news_media=='CBS']['tweets_ago']\n",
    "cbs=news_sentiment_analysis.loc[news_sentiment_analysis.news_media=='CBS']['compound']\n",
    "plt.scatter(tweets_ago, cbs, marker=\"o\", facecolors=\"blue\", edgecolors=\"black\",\n",
    "            alpha=0.75)\n",
    "\n",
    "\n",
    "tweets_ago=news_sentiment_analysis.loc[news_sentiment_analysis.news_media=='fox']['tweets_ago']\n",
    "fox=news_sentiment_analysis.loc[news_sentiment_analysis.news_media=='fox']['compound']\n",
    "plt.scatter(tweets_ago, fox, marker=\"o\", facecolors=\"yellow\", edgecolors=\"black\",\n",
    "            alpha=0.75)"
   ]
  },
  {
   "cell_type": "code",
   "execution_count": null,
   "metadata": {},
   "outputs": [],
   "source": [
    "plt.title(\"Sentiments Analysis\")\n",
    "plt.ylabel(\"Tweet Polarity\")\n",
    "plt.xlabel(\"Tweets Ago\")\n",
    "\n",
    "\n",
    "x_limit = np.min(tweets_ago)\n",
    "\n",
    "plt.ylim(-1, 1)\n",
    "plt.xlim(0, x_limit)\n",
    "plt.xlim(0, x_limit)\n",
    "plt.savefig(\"../Homework/moods_bar.png\")\n",
    "plt.show()"
   ]
  },
  {
   "cell_type": "code",
   "execution_count": null,
   "metadata": {},
   "outputs": [],
   "source": [
    "x_axis = [0,1,2,3,4]\n",
    "\n",
    "plt.bar(0, overall_sent[0], facecolor='blue', alpha=0.6, align=\"center\",width=1.0)\n",
    "plt.bar(1, overall_sent[1], facecolor='green', alpha=1.0, align=\"center\",width=1.0)\n",
    "plt.bar(2, overall_sent[2], facecolor='red', alpha=1.0, align=\"center\",width=1.0)\n",
    "plt.bar(3, overall_sent[3], facecolor='blue', alpha=1.0, align=\"center\",width=1.0)\n",
    "plt.bar(4, overall_sent[4], facecolor='yellow', alpha=1.0, align=\"center\",width=1.0)\n",
    "\n",
    "tick_locations = [value+0.1 for value in x_axis]\n",
    "plt.xticks(tick_locations, [\"NYT\",\"CNN\",\"BBC\", \"CBS\", \"Fox\"], fontsize=10, color='blue')\n",
    "\n",
    "plt.xlim(0, 4.5)\n",
    "plt.ylim(min(overall_sent)-0.02, max(overall_sent)+0.05)\n",
    "\n",
    "plt.title(\"Overall News sentiments \", fontsize=10, color='blue')\n",
    "plt.xlabel(\"News Media\", fontsize=10, color='blue')\n",
    "plt.ylabel(\"Mean overall News Sentiments \", fontsize=10, color='blue')\n",
    "plt.tight_layout(pad=0.4, w_pad=0.01, h_pad=1.0)\n",
    "\n",
    "plt.show()"
   ]
  }
 ],
 "metadata": {
  "kernelspec": {
   "display_name": "Python 3",
   "language": "python",
   "name": "python3"
  },
  "language_info": {
   "codemirror_mode": {
    "name": "ipython",
    "version": 3
   },
   "file_extension": ".py",
   "mimetype": "text/x-python",
   "name": "python",
   "nbconvert_exporter": "python",
   "pygments_lexer": "ipython3",
   "version": "3.6.5"
  }
 },
 "nbformat": 4,
 "nbformat_minor": 2
}
